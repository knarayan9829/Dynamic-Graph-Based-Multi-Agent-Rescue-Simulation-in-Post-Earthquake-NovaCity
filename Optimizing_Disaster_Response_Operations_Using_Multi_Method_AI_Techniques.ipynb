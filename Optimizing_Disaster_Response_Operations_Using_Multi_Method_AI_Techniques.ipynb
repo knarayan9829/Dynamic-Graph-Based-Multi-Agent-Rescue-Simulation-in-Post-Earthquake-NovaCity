{
  "cells": [
    {
      "cell_type": "markdown",
      "id": "9220620f",
      "metadata": {
        "id": "9220620f"
      },
      "source": [
        "## Simulation Scenario\n",
        "\n",
        "An earthquake has struck NovaCity, causing widespread destruction, including fires, and road blockages. Emergency response teams need to be coordinated for rescue operations.\n",
        "\n",
        "The city is divided into **5 regions (R1 to R5)**. Each region has an evaluated **damage level** according to its blocked roads and fires:\n",
        "- High damage (H): $>=50\\%$ roads blocked, or $>=30\\%$ fires;\n",
        "- Medium damage (M): $[10\\%, 50\\%)$ roads blocked, or $[10\\%, 30\\%)$ fires; and\n",
        "- Low damage (L): $<10\\%$ roads blocked, or $<10\\%$ fires.\n",
        "\n",
        "Either blocked roads or fires that reach the range can be considered its damage level. For example, a region with 30\\% road blocks and 5\\% fires is Medium damaged.\n",
        "\n",
        "The **initial damage** to each region is provided:\n",
        "- R1 (H): 60\\% roads blocked, 35\\% fires;\n",
        "- R2 (M): 40\\% roads blocked, 25\\% fires;\n",
        "- R3 (M): 15\\% roads blocked, 5\\% fires;\n",
        "- R4 (H): 35\\% roads blocked, 30\\% fires; and\n",
        "- R5 (L): 5\\% roads blocked, 3\\% fires.\n",
        "\n",
        "Assume all regions are of equal size to simplify the modelling process. Each region is modelled as a **node** in a graph, and predefined **distances** between regions (e.g., 5 km between R1 and R2, 3 km between R2 and R3) are detailed: R1 -- R2: 5 km, R1 -- R3: 7 km, R1 -- R4: 4 km, R1 -- R5: 6 km, R2 -- R3: 3 km, R2 -- R4: 4 km, R2 -- R5: 8 km, R3 -- R4: 5 km, R3 -- R5: 6 km, and R4 -- R5: 4 km.\n",
        "\n",
        "During the rescue, each region will continue to experience fire spread and aftershocks. Fires spread every 10 minutes within the same region, increasing the fire percentage by 10\\%. Aftershocks occur randomly every 15 minutes increasing road blockages by 10\\% over all regions. For example, in R1, the initial damage is 60\\% roads blocked and 35\\% fires. After 10 minutes, it becomes $(60\\%, 45\\%)$, and after an additional 5 minutes, it becomes $(70\\%, 45\\%)$ if no rescue operations are performed.\n",
        "\n",
        "Rescue agents are distributed across regions at the start of the simulation. **Eight units of fire trucks start at R2.** Each fire truck unit decreases fire percentage by 10\\% per rescue operation. **Six units of police start at R4.** Each police unit decreases road blockages by 10\\% per rescue operation. Multiple agents/units can perform rescue operations at the same time in the same region. The effects of their actions are cumulative. For example, if 2 fire trucks are deployed to R1 simultaneously, the fire percentage decreases by 20\\% in one operation. Rescue operations affect the regional damage directly. If a fire truck reduces fire percentage by 10\\%, that 10\\% decrease is applied to the overall fire damage in that region, e.g., $20\\%-10\\%=10\\%$.\n",
        "\n",
        "**Assumption:** Both rescue operations and disaster events (fire spread and aftershocks) do not consume time in this simulation, but each unit can only perform rescue once when visiting the region. Rescue agents will not lose resources along a path, and all operations will occur instantly for the purpose of modelling. However, the effects of disasters and rescues will still be cumulative over time. Rescue agents aim to follow a path that covers all regions, ensuring each region is visited only once. After completing their assigned rescue tasks along the path, they must return to their starting point for a refill.\n",
        "\n",
        "**Travel Speed:** Rescue agents can travel at a maximum speed of 60 km/h on unblocked roads. If roads are blocked, their speed will be reduced according to the percentage of blocked roads in the region they are traveling to or from. The travel speed between two regions is determined by the average percentage of blocked roads in both regions. For example, if R1 has 60\\% blocked roads and R2 has 40\\% blocked roads, the average blocked road percentage is $(60\\% + 40\\%) / 2 = 50\\%$. The travel speed will then be reduced by 50\\%, resulting in a travel speed of 30 km/h. Rescue agents won’t block each other. Fire damage will not affect travel speed.\n",
        "\n",
        "Rescue operations must be completed within 90 minutes and the sooner the better. You need to allocate resources efficiently, prioritize critical regions, and adapt to changing conditions like fire spread and aftershocks. Rescue agents must quickly respond to new blockages and worsening fires, adjusting strategies to minimize delays."
      ]
    },
    {
      "cell_type": "markdown",
      "id": "0f353075",
      "metadata": {
        "id": "0f353075"
      },
      "source": [
        "# Optimizing Disaster Response Operations Using Multi-Method AI Techniques"
      ]
    },
    {
      "cell_type": "markdown",
      "id": "cdb497f8",
      "metadata": {
        "id": "cdb497f8"
      },
      "source": [
        "## Overall Design"
      ]
    },
    {
      "cell_type": "markdown",
      "id": "2f5f622f",
      "metadata": {
        "id": "2f5f622f"
      },
      "source": [
        "In this assignment, I explored an interconnected approach rather than a linear sequence for the objectives, as I found this to be the most effective way to address the complex requirements. The output from each task often feeds directly into the next, creating a cohesive system that adapts dynamically to evolving conditions.\n",
        "\n",
        "For example, while working on Task 2 (Ant Colony Optimization), I generated optimized rescue paths based on real-time conditions. I then used these paths as the initial population for Task 1 (Genetic Algorithms for Path Optimization), allowing the GA to refine and build upon the ACO’s output. This integration strengthened my path optimization, enabling faster and more accurate resource allocation.\n",
        "\n",
        "Similarly, I leveraged the output from the GA to guide decision-making in Task 3, where the Minimax algorithm with Alpha-Beta Pruning handles complex scenarios under competitive conditions. Tasks 4 and 5 (Game Theory and Bayesian Networks) further supported this design by incorporating strategic and probabilistic reasoning, enhancing the model’s ability to manage resource allocation and uncertainty.\n",
        "\n",
        "By designing the solution as an interconnected system, each component builds on the others, resulting in a disaster response model that is both adaptive and highly responsive to the simulated environment."
      ]
    },
    {
      "cell_type": "markdown",
      "source": [
        "## Pre-required functions and declarations"
      ],
      "metadata": {
        "id": "1250RoDZCfgb"
      },
      "id": "1250RoDZCfgb"
    },
    {
      "cell_type": "markdown",
      "source": [
        "### Define Regions and Initial Damage Levels\n",
        "This section defines the regions affected by the disaster, initializing each region with roads blocked, fires, and an initial damage level based on predefined thresholds."
      ],
      "metadata": {
        "id": "A-2HJ8tpCowM"
      },
      "id": "A-2HJ8tpCowM"
    },
    {
      "cell_type": "code",
      "source": [
        "# Define regions with initial damage levels\n",
        "regions = {\n",
        "    \"R1\": {\"roads_blocked\": 60, \"fires\": 35, \"damage_level\": \"H\"},\n",
        "    \"R2\": {\"roads_blocked\": 40, \"fires\": 25, \"damage_level\": \"M\"},\n",
        "    \"R3\": {\"roads_blocked\": 15, \"fires\": 5, \"damage_level\": \"M\"},\n",
        "    \"R4\": {\"roads_blocked\": 35, \"fires\": 30, \"damage_level\": \"H\"},\n",
        "    \"R5\": {\"roads_blocked\": 5, \"fires\": 3, \"damage_level\": \"L\"}\n",
        "}"
      ],
      "metadata": {
        "id": "3_gsDr_rCtfd"
      },
      "id": "3_gsDr_rCtfd",
      "execution_count": null,
      "outputs": []
    },
    {
      "cell_type": "markdown",
      "source": [
        "### Define Distances Between Regions\n",
        "The distances dictionary establishes the bidirectional distances (in km) between each region pair, enabling travel time calculations."
      ],
      "metadata": {
        "id": "Jj4dz7XgCw0h"
      },
      "id": "Jj4dz7XgCw0h"
    },
    {
      "cell_type": "code",
      "source": [
        "# Define distances between regions (in km), bidirectional for easier access\n",
        "distances = {\n",
        "    (\"R1\", \"R2\"): 5, (\"R2\", \"R1\"): 5,\n",
        "    (\"R1\", \"R3\"): 7, (\"R3\", \"R1\"): 7,\n",
        "    (\"R1\", \"R4\"): 4, (\"R4\", \"R1\"): 4,\n",
        "    (\"R1\", \"R5\"): 6, (\"R5\", \"R1\"): 6,\n",
        "    (\"R2\", \"R3\"): 3, (\"R3\", \"R2\"): 3,\n",
        "    (\"R2\", \"R4\"): 4, (\"R4\", \"R2\"): 4,\n",
        "    (\"R2\", \"R5\"): 8, (\"R5\", \"R2\"): 8,\n",
        "    (\"R3\", \"R4\"): 5, (\"R4\", \"R3\"): 5,\n",
        "    (\"R3\", \"R5\"): 6, (\"R5\", \"R3\"): 6,\n",
        "    (\"R4\", \"R5\"): 4, (\"R5\", \"R4\"): 4\n",
        "}"
      ],
      "metadata": {
        "id": "av51ySSZC-7v"
      },
      "id": "av51ySSZC-7v",
      "execution_count": null,
      "outputs": []
    },
    {
      "cell_type": "markdown",
      "source": [
        "### Initial Allocation of Resources\n",
        "Agents (fire trucks and police units) are distributed initially, with eight fire trucks in R2 and six police units in R4."
      ],
      "metadata": {
        "id": "NyCgWyTaDGk4"
      },
      "id": "NyCgWyTaDGk4"
    },
    {
      "cell_type": "code",
      "source": [
        "# Initial allocation of agents in regions\n",
        "fire_truck_units = {\"R2\": 8}  # 8 fire truck units start in region R2\n",
        "police_units = {\"R4\": 6}      # 6 police units start in region R4\n",
        "\n",
        "# Define total available units for police and fire trucks\n",
        "total_police_units = 6\n",
        "total_fire_truck_units = 8"
      ],
      "metadata": {
        "id": "tzArxUMfDIFO"
      },
      "id": "tzArxUMfDIFO",
      "execution_count": null,
      "outputs": []
    },
    {
      "cell_type": "markdown",
      "source": [
        "### Define Base Speed and Speed Adjustment\n",
        "The function calculate_speed() calculates the travel speed between two regions based on their average road blockage percentage, adjusting from a base speed of 60 km/h."
      ],
      "metadata": {
        "id": "pWuJKq8qDLIv"
      },
      "id": "pWuJKq8qDLIv"
    },
    {
      "cell_type": "code",
      "source": [
        "# Define base speed for travel on unblocked roads\n",
        "base_speed = 60  # km/h\n",
        "\n",
        "# Function to calculate adjusted speed based on average road blockages between regions\n",
        "def calculate_speed(region1, region2):\n",
        "    avg_blocked = (regions[region1][\"roads_blocked\"] + regions[region2][\"roads_blocked\"]) / 2\n",
        "    adjusted_speed = base_speed * (1 - avg_blocked / 100)\n",
        "    return adjusted_speed"
      ],
      "metadata": {
        "id": "CuxorsCzDO7G"
      },
      "id": "CuxorsCzDO7G",
      "execution_count": null,
      "outputs": []
    },
    {
      "cell_type": "markdown",
      "source": [
        "### Fire Spread and Aftershock Functions\n",
        "These functions simulate disaster events:\n",
        "\n",
        "* spread_fire(): Increases fire levels by 10% every 10 minutes.\n",
        "* cause_aftershock(): Increases road blockages by 10% every 15 minutes."
      ],
      "metadata": {
        "id": "iEcP2x3JDWxi"
      },
      "id": "iEcP2x3JDWxi"
    },
    {
      "cell_type": "code",
      "source": [
        "# Update function to simulate fire spread every 10 minutes\n",
        "def spread_fire():\n",
        "    for region, damage in regions.items():\n",
        "        damage[\"fires\"] = min(100, damage[\"fires\"] + 10)\n",
        "    print(\"Fire spread updated:\", {r: regions[r][\"fires\"] for r in regions})\n",
        "\n",
        "# Update function to simulate aftershocks every 15 minutes\n",
        "def cause_aftershock():\n",
        "    for region, damage in regions.items():\n",
        "        damage[\"roads_blocked\"] = min(100, damage[\"roads_blocked\"] + 10)\n",
        "    print(\"Aftershock updated:\", {r: regions[r][\"roads_blocked\"] for r in regions})"
      ],
      "metadata": {
        "id": "aWeuqg3UDcfO"
      },
      "id": "aWeuqg3UDcfO",
      "execution_count": null,
      "outputs": []
    },
    {
      "cell_type": "markdown",
      "source": [
        "### Fire Truck and Police Operations\n",
        "These functions allow cumulative reduction in fires and blockages per rescue operation:\n",
        "\n",
        "* fire_truck_rescue(): Reduces fire levels by 10% per unit deployed.\n",
        "* police_rescue(): Reduces road blockages by 10% per unit deployed."
      ],
      "metadata": {
        "id": "3kuetJMvDex1"
      },
      "id": "3kuetJMvDex1"
    },
    {
      "cell_type": "code",
      "source": [
        "# Fire truck operation to reduce fire in a specific region, allowing multiple units to operate cumulatively\n",
        "def fire_truck_rescue(region, units):\n",
        "    reduction = units * 10\n",
        "    regions[region][\"fires\"] = max(0, regions[region][\"fires\"] - reduction)\n",
        "    print(f\"Fire trucks reduced fire in {region} by {reduction}%:\", regions[region][\"fires\"])\n",
        "\n",
        "# Police operation to reduce road blockages in a specific region, allowing multiple units to operate cumulatively\n",
        "def police_rescue(region, units):\n",
        "    reduction = units * 10\n",
        "    regions[region][\"roads_blocked\"] = max(0, regions[region][\"roads_blocked\"] - reduction)\n",
        "    print(f\"Police reduced road blockage in {region} by {reduction}%:\", regions[region][\"roads_blocked\"])"
      ],
      "metadata": {
        "id": "9xmsRhpGDjRq"
      },
      "id": "9xmsRhpGDjRq",
      "execution_count": null,
      "outputs": []
    },
    {
      "cell_type": "markdown",
      "source": [
        "### Update and Prioritize Regions by Damage Level\n",
        "The update_damage_levels() function recalculates the damage level of each region based on current fire and road block conditions, while get_prioritized_regions() returns a list of regions weighted by damage severity, ensuring high-damage regions are prioritized."
      ],
      "metadata": {
        "id": "CSMLfM9_DoaD"
      },
      "id": "CSMLfM9_DoaD"
    },
    {
      "cell_type": "code",
      "source": [
        "# Function to assess and update the damage level of each region based on fire and road blockage levels\n",
        "def update_damage_levels():\n",
        "    for region, damage in regions.items():\n",
        "        if damage[\"roads_blocked\"] >= 50 or damage[\"fires\"] >= 30:\n",
        "            damage[\"damage_level\"] = \"H\"\n",
        "        elif 10 <= damage[\"roads_blocked\"] < 50 or 10 <= damage[\"fires\"] < 30:\n",
        "            damage[\"damage_level\"] = \"M\"\n",
        "        else:\n",
        "            damage[\"damage_level\"] = \"L\"\n",
        "    print(\"Damage levels updated:\", {r: regions[r][\"damage_level\"] for r in regions})\n",
        "\n",
        "# Function to prioritize regions based on damage level\n",
        "def get_prioritized_regions():\n",
        "    high_damage = [region for region, data in regions.items() if data[\"damage_level\"] == \"H\"]\n",
        "    medium_damage = [region for region, data in regions.items() if data[\"damage_level\"] == \"M\"]\n",
        "    low_damage = [region for region, data in regions.items() if data[\"damage_level\"] == \"L\"]\n",
        "\n",
        "    # Triple weight High-damage regions to prioritize them even more\n",
        "    return high_damage * 3 + medium_damage + low_damage\n",
        "\n",
        "MIN_FIRE_UNITS_FOR_HIGH_DAMAGE = 2  # Minimum fire units reserved for high-damage regions\n",
        "MIN_POLICE_UNITS_FOR_HIGH_DAMAGE = 2  # Minimum police units reserved for high-damage regions"
      ],
      "metadata": {
        "id": "9_6dz9lUDsUE"
      },
      "id": "9_6dz9lUDsUE",
      "execution_count": null,
      "outputs": []
    },
    {
      "cell_type": "markdown",
      "id": "d7383378",
      "metadata": {
        "id": "d7383378"
      },
      "source": [
        "## Task 2: Ant Colony Optimization (ACO) for Multi-Agent Coordination"
      ]
    },
    {
      "cell_type": "markdown",
      "id": "4b6df3a9",
      "metadata": {
        "id": "4b6df3a9"
      },
      "source": [
        "Goal:\n",
        "The goal of Task 2 is to optimize the paths taken by rescue agents (fire trucks and police units) using Ant Colony Optimization. ACO enables these agents to find the best routes to regions with varying damage levels based on real-time updates of road blockages and fires. This approach simulates pheromone trails left by each agent, reinforcing optimal paths over time and improving the coordination between agents.\n",
        "\n",
        "Integration:\n",
        "\n",
        "* Input: Region distance data (distances), road blockage and fire severity data (regions), and initial pheromone levels for each path.\n",
        "* Output: Optimized paths with dynamically updated pheromone trails reflecting current rescue priorities.\n",
        "* Next Step: The paths generated by ACO become the initial population for Task 1 (Genetic Algorithms for Path Optimization), allowing the Genetic Algorithm to refine paths based on further rescue efficiency criteria.\n",
        "* Equations:\n",
        "$$\\tau_{ij} \\leftarrow \\text{Evaporation}(\\tau_{ij})$$\n",
        "\n",
        "$$\\tau_{ij} \\leftarrow \\text{Rescue}(\\tau_{ij})$$ where `Evaporation` can be fire spread or aftershock, `Rescue` can be from a unit of fire truck or a unit of police.\n",
        "\n",
        "$$\\eta_{ij}=1/d_{ij}$$\n",
        "\n",
        "$$p^k_{ij}=\\frac{[\\tau_{ij}]^\\alpha[\\eta_{ij}]^\\beta}{\\sum_{l\\in N_k(i)}[\\tau_{il}]^\\alpha[\\eta_{il}]^\\beta}$$"
      ]
    },
    {
      "cell_type": "markdown",
      "source": [
        "### 1. Initialize Pheromone Levels\n",
        "This section sets initial pheromone levels for paths used by both fire trucks and police units, establishing a starting point for path desirability."
      ],
      "metadata": {
        "id": "WYsgbUUAExBx"
      },
      "id": "WYsgbUUAExBx"
    },
    {
      "cell_type": "code",
      "execution_count": null,
      "id": "37e0b0d2",
      "metadata": {
        "id": "37e0b0d2"
      },
      "outputs": [],
      "source": [
        "import random\n",
        "\n",
        "# Initialize pheromone levels for both fire trucks and police paths\n",
        "pheromone_fire = {edge: 1.0 for edge in distances.keys()}  # Initial pheromone levels for fire paths\n",
        "pheromone_police = {edge: 1.0 for edge in distances.keys()}  # Initial pheromone levels for police paths"
      ]
    },
    {
      "cell_type": "markdown",
      "source": [
        "### 2. Set ACO Parameters\n",
        "Parameters define how strongly agents are influenced by pheromone trails versus the travel time, and an evaporation rate simulates pheromone decay over time."
      ],
      "metadata": {
        "id": "2qh6gstaE7ic"
      },
      "id": "2qh6gstaE7ic"
    },
    {
      "cell_type": "code",
      "source": [
        "# ACO parameters\n",
        "alpha = 1            # Importance of pheromone level in decision-making\n",
        "beta = 2             # Importance of desirability (inverse of travel time)\n",
        "evaporation_rate = 0.85  # Evaporation factor simulating decay of pheromones"
      ],
      "metadata": {
        "id": "tRGPBohjE81K"
      },
      "id": "tRGPBohjE81K",
      "execution_count": null,
      "outputs": []
    },
    {
      "cell_type": "markdown",
      "source": [
        "### 3. Pheromone Evaporation Function\n",
        "This function reduces pheromone levels over time, simulating the natural decay of pheromone trails. This decay allows agents to find alternative paths rather than always following old trails."
      ],
      "metadata": {
        "id": "9Eul25HcFA5W"
      },
      "id": "9Eul25HcFA5W"
    },
    {
      "cell_type": "code",
      "source": [
        "# Function to evaporate pheromones over time to encourage exploration of new paths\n",
        "def evaporate_pheromones():\n",
        "    for edge in pheromone_fire:\n",
        "        pheromone_fire[edge] *= evaporation_rate\n",
        "    for edge in pheromone_police:\n",
        "        pheromone_police[edge] *= evaporation_rate"
      ],
      "metadata": {
        "id": "34Q8MppKFDfb"
      },
      "id": "34Q8MppKFDfb",
      "execution_count": null,
      "outputs": []
    },
    {
      "cell_type": "markdown",
      "source": [
        "### 4. Pheromone Deposition Function\n",
        "After a rescue operation, agents deposit pheromones along their paths. The amount of pheromone deposited depends on the units used, reinforcing paths that agents have found useful."
      ],
      "metadata": {
        "id": "nK6aY_h0FIHt"
      },
      "id": "nK6aY_h0FIHt"
    },
    {
      "cell_type": "code",
      "source": [
        "# Function to deposit pheromones along the paths taken by fire trucks or police\n",
        "def deposit_pheromones(path, units, pheromone_type=\"fire\"):\n",
        "    reinforcement = units * 0.1  # Amount of reinforcement per unit\n",
        "    pheromone = pheromone_fire if pheromone_type == \"fire\" else pheromone_police\n",
        "    for i in range(len(path) - 1):\n",
        "        region1, region2 = path[i], path[i + 1]\n",
        "        pheromone[(region1, region2)] += reinforcement\n",
        "        pheromone[(region2, region1)] += reinforcement  # Paths are bidirectional"
      ],
      "metadata": {
        "id": "td-y2mh9FJtC"
      },
      "id": "td-y2mh9FJtC",
      "execution_count": null,
      "outputs": []
    },
    {
      "cell_type": "markdown",
      "source": [
        "### 5. Calculate Edge Travel Time\n",
        "This function calculates the time needed to travel between two regions, considering road blockages. It adjusts speed based on blockage percentages, ensuring that agents consider path difficulty when choosing routes."
      ],
      "metadata": {
        "id": "Ti6S5ZglFNcJ"
      },
      "id": "Ti6S5ZglFNcJ"
    },
    {
      "cell_type": "code",
      "source": [
        "def edge_travel_time(region1, region2):\n",
        "    avg_blocked = (regions[region1][\"roads_blocked\"] + regions[region2][\"roads_blocked\"]) / 2\n",
        "    adjusted_speed = max(base_speed * (1 - avg_blocked / 100), 10)  # Minimum speed threshold\n",
        "\n",
        "    distance = distances[(region1, region2)]\n",
        "    travel_time = (distance / adjusted_speed) * 60  # Convert hours to minutes\n",
        "\n",
        "    print(f\"Travel from {region1} to {region2}: Distance = {distance} km, \"\n",
        "          f\"Avg Blockage = {avg_blocked}%, Adjusted Speed = {adjusted_speed:.2f} km/h, \"\n",
        "          f\"Travel Time = {travel_time:.2f} minutes\")\n",
        "\n",
        "    return travel_time\n"
      ],
      "metadata": {
        "id": "Ld8PlXPiFO3b"
      },
      "id": "Ld8PlXPiFO3b",
      "execution_count": null,
      "outputs": []
    },
    {
      "cell_type": "markdown",
      "source": [
        "### 6. Calculate Desirability of Paths\n",
        "Desirability is calculated as the inverse of travel time, allowing agents to prioritize quicker paths."
      ],
      "metadata": {
        "id": "K4dVB9ohFz3k"
      },
      "id": "K4dVB9ohFz3k"
    },
    {
      "cell_type": "code",
      "source": [
        "# Calculate desirability based on inverse travel time for each path\n",
        "def calculate_desirability():\n",
        "    desirability = {}\n",
        "    for (region1, region2) in distances.keys():\n",
        "        travel_time = edge_travel_time(region1, region2)\n",
        "        desirability[(region1, region2)] = 1 / travel_time if travel_time > 0 else 1  # Higher desirability for shorter travel times\n",
        "    return desirability"
      ],
      "metadata": {
        "id": "fI9Z3CdSF48T"
      },
      "id": "fI9Z3CdSF48T",
      "execution_count": null,
      "outputs": []
    },
    {
      "cell_type": "markdown",
      "source": [
        "### 7. Choose Next Region Based on Pheromones and Desirability\n",
        "This function selects the next region for an agent to visit based on pheromone levels and path desirability. The probabilities encourage agents to choose paths with higher pheromone levels and lower travel times."
      ],
      "metadata": {
        "id": "zmH_p_1SF8Qf"
      },
      "id": "zmH_p_1SF8Qf"
    },
    {
      "cell_type": "code",
      "source": [
        "# Function to choose the next region based on pheromone levels and desirability\n",
        "def choose_next_region(current_region, pheromone, desirability):\n",
        "    total = sum((pheromone[(current_region, neighbor)] ** alpha) *\n",
        "                (desirability[(current_region, neighbor)] ** beta)\n",
        "                for neighbor in regions if (current_region, neighbor) in pheromone)\n",
        "\n",
        "    probabilities = {}\n",
        "    for neighbor in regions:\n",
        "        if (current_region, neighbor) in pheromone:\n",
        "            tau_eta = (pheromone[(current_region, neighbor)] ** alpha) * (desirability[(current_region, neighbor)] ** beta)\n",
        "            probabilities[neighbor] = tau_eta / total\n",
        "\n",
        "    # Select next region based on calculated probabilities\n",
        "    next_region = random.choices(list(probabilities.keys()), weights=probabilities.values())[0]\n",
        "    return next_region"
      ],
      "metadata": {
        "id": "bo28F8r4F-MT"
      },
      "id": "bo28F8r4F-MT",
      "execution_count": null,
      "outputs": []
    },
    {
      "cell_type": "markdown",
      "source": [
        "### 8. Simulate Agent Path\n",
        "This function simulates the entire path an agent takes, accumulating travel time and updating pheromones along the way."
      ],
      "metadata": {
        "id": "5gvrWde2GBdA"
      },
      "id": "5gvrWde2GBdA"
    },
    {
      "cell_type": "code",
      "source": [
        "# Function to simulate path taken by an agent, updating pheromone levels as they move\n",
        "def simulate_agent_path(start_region, units, pheromone_type=\"fire\"):\n",
        "    path = [start_region]\n",
        "    current_region = start_region\n",
        "    pheromone = pheromone_fire if pheromone_type == \"fire\" else pheromone_police\n",
        "    desirability = calculate_desirability()\n",
        "    total_travel_time = 0  # Accumulate total travel time\n",
        "\n",
        "    while len(path) < len(regions):\n",
        "        next_region = choose_next_region(current_region, pheromone, desirability)\n",
        "        path.append(next_region)\n",
        "        travel_time = edge_travel_time(current_region, next_region)\n",
        "        total_travel_time += travel_time\n",
        "        current_region = next_region\n",
        "\n",
        "    # Deposit pheromones after path simulation\n",
        "    deposit_pheromones(path, units, pheromone_type)\n",
        "    print(f\"Total travel time for path {path}: {total_travel_time:.2f} minutes\")\n",
        "    return path, total_travel_time"
      ],
      "metadata": {
        "id": "49G0-RQYGETw"
      },
      "id": "49G0-RQYGETw",
      "execution_count": null,
      "outputs": []
    },
    {
      "cell_type": "markdown",
      "source": [
        "## Summary\n",
        "\n",
        "In Task 2, the Ant Colony Optimization (ACO) algorithm was implemented to simulate pathfinding for rescue agents (fire trucks and police units) based on real-time conditions such as road blockages and damage levels. Key steps in this task included:\n",
        "\n",
        "* Pheromone Initialization and Update: Initial pheromone levels were set for each path, and as agents moved, pheromones were deposited along successful paths. An evaporation function also reduced pheromone levels over time, encouraging agents to explore new routes.\n",
        "* Travel Time and Desirability Calculation: Travel times were dynamically adjusted based on road blockages, and desirability scores (based on inverse travel time) helped agents prioritize quicker paths.\n",
        "* Decision-Making with Pheromone Trails: Agents selected their next region based on a combination of pheromone levels and desirability, simulating the ACO approach where paths with high pheromone levels become more attractive.\n",
        "\n",
        "Through these steps, ACO provided a framework for adaptive and coordinated movement, with agents leaving pheromone trails to reinforce effective paths while adjusting to current disaster conditions.\n",
        "\n",
        "How This Helps the Next Step:\n",
        "The paths generated by ACO serve as the initial population for the Genetic Algorithm (GA) in Task 1, ensuring that GA begins with a set of paths already optimized for current conditions. The pheromone trails also guide the GA's selection process, as paths with higher pheromone levels reflect successful rescue operations, enhancing the GA’s ability to find efficient and effective paths in the subsequent task."
      ],
      "metadata": {
        "id": "xJW1W8NsJVRR"
      },
      "id": "xJW1W8NsJVRR"
    },
    {
      "cell_type": "markdown",
      "id": "84bcfc23",
      "metadata": {
        "id": "84bcfc23"
      },
      "source": [
        "## Task 1: Genetic Algorithms for Path Optimization"
      ]
    },
    {
      "cell_type": "markdown",
      "id": "af9361f2",
      "metadata": {
        "id": "af9361f2"
      },
      "source": [
        "Goal:\n",
        "The objective of Task 1 is to optimize the paths for rescue agents by employing a Genetic Algorithm (GA). This algorithm uses principles of natural selection—such as crossover, mutation, and fitness evaluation—to find efficient rescue paths that minimize travel time while maximizing pheromone levels.\n",
        "\n",
        "Integration:\n",
        "\n",
        "* Input: The GA takes in the initial population of paths generated using Ant Colony Optimization (Task 2), region pheromone levels, and region distances.\n",
        "* Output: The optimized path, which will be used as the primary path for each agent in the simulation.\n",
        "* Next Step: The optimized path produced by GA is used in subsequent simulation steps to execute resource allocation, minimize travel time, and respond to updated damage levels efficiently.\n"
      ]
    },
    {
      "cell_type": "markdown",
      "source": [
        "### 1. Initialize Parameters\n",
        "The parameters define population size, number of generations, and mutation rate for the GA."
      ],
      "metadata": {
        "id": "F10EuXN3G9JD"
      },
      "id": "F10EuXN3G9JD"
    },
    {
      "cell_type": "code",
      "execution_count": null,
      "id": "3c7e9736",
      "metadata": {
        "id": "3c7e9736"
      },
      "outputs": [],
      "source": [
        "import random\n",
        "\n",
        "# Parameters for Genetic Algorithm\n",
        "population_size = 10       # Size of the path population in each generation\n",
        "num_generations = 50       # Number of generations to evolve the population\n",
        "mutation_rate = 0.1        # Probability of mutation in each path"
      ]
    },
    {
      "cell_type": "markdown",
      "source": [
        "### 2. Generate Initial Population\n",
        "This function generates a random initial population of paths based on ACO pheromone data, which serves as the starting point for the GA."
      ],
      "metadata": {
        "id": "xDzWK03aH9PN"
      },
      "id": "xDzWK03aH9PN"
    },
    {
      "cell_type": "code",
      "source": [
        "# Generate initial population of paths based on ACO path probabilities\n",
        "def generate_initial_population(start_region, pheromone, size=population_size):\n",
        "    population = []\n",
        "    regions_list = list(regions.keys())\n",
        "    regions_list.remove(start_region)\n",
        "\n",
        "    # Define default probabilities if not provided\n",
        "    probabilities = {region: 1.0 for region in regions}  # Uniform probabilities if none are provided\n",
        "\n",
        "    for _ in range(size):\n",
        "        path = [start_region]\n",
        "        remaining_regions = regions_list[:]\n",
        "\n",
        "        while remaining_regions:\n",
        "            # Select next region based on probabilities\n",
        "            region_weights = [probabilities.get(region, 1.0) for region in remaining_regions]\n",
        "            next_region = random.choices(remaining_regions, weights=region_weights)[0]\n",
        "            path.append(next_region)\n",
        "            remaining_regions.remove(next_region)\n",
        "\n",
        "        path.append(start_region)  # Return to starting point\n",
        "        population.append(path)\n",
        "    return population\n"
      ],
      "metadata": {
        "id": "Q-ErT2acIDMQ"
      },
      "id": "Q-ErT2acIDMQ",
      "execution_count": null,
      "outputs": []
    },
    {
      "cell_type": "markdown",
      "source": [
        "### 3. Define Fitness Function\n",
        "The fitness function evaluates paths by balancing travel distance and pheromone levels. A higher pheromone-to-distance ratio indicates a more efficient path."
      ],
      "metadata": {
        "id": "ucjIXGuiIHRi"
      },
      "id": "ucjIXGuiIHRi"
    },
    {
      "cell_type": "code",
      "source": [
        "# Fitness function to evaluate paths based on total travel time and pheromone level\n",
        "def fitness_function(path, pheromone):\n",
        "    total_distance = sum(distances[(path[i], path[i + 1])] for i in range(len(path) - 1))\n",
        "    pheromone_score = sum(pheromone[(path[i], path[i + 1])] for i in range(len(path) - 1))\n",
        "    return (pheromone_score / total_distance)  # Higher pheromone and lower distance yield better fitness"
      ],
      "metadata": {
        "id": "Nd8nDui5IPX9"
      },
      "id": "Nd8nDui5IPX9",
      "execution_count": null,
      "outputs": []
    },
    {
      "cell_type": "markdown",
      "source": [
        "### 4. Selection Function\n",
        "This function selects parents for crossover based on fitness scores, favoring paths with higher fitness."
      ],
      "metadata": {
        "id": "Nnj4jZWQIRqk"
      },
      "id": "Nnj4jZWQIRqk"
    },
    {
      "cell_type": "code",
      "source": [
        "# Selection function to pick parents based on fitness scores\n",
        "def selection(population, pheromone):\n",
        "    fitness_scores = [fitness_function(path, pheromone) for path in population]\n",
        "    total_fitness = sum(fitness_scores)\n",
        "    probabilities = [fitness / total_fitness for fitness in fitness_scores]\n",
        "    parents = random.choices(population, weights=probabilities, k=2)\n",
        "    return parents"
      ],
      "metadata": {
        "id": "58076dNKIV8w"
      },
      "id": "58076dNKIV8w",
      "execution_count": null,
      "outputs": []
    },
    {
      "cell_type": "markdown",
      "source": [
        "### 5. Crossover Function\n",
        "This function creates offspring by combining segments from two parent paths. The crossover operation introduces diversity in the population by merging parts of different paths."
      ],
      "metadata": {
        "id": "oC9dCtrYIXmJ"
      },
      "id": "oC9dCtrYIXmJ"
    },
    {
      "cell_type": "code",
      "source": [
        "# Crossover function to create offspring by combining parts of two parents\n",
        "def crossover(parent1, parent2):\n",
        "    crossover_point = random.randint(1, len(parent1) - 2)\n",
        "    child = parent1[:crossover_point] + [region for region in parent2 if region not in parent1[:crossover_point]]\n",
        "    child.append(parent1[0])  # Ensure path returns to the starting region\n",
        "    return child"
      ],
      "metadata": {
        "id": "0ILIGuBlIcJf"
      },
      "id": "0ILIGuBlIcJf",
      "execution_count": null,
      "outputs": []
    },
    {
      "cell_type": "markdown",
      "source": [
        "### 6. Exchange (Mutation) Function\n",
        "The exchange function randomly swaps regions in a path to introduce variations, helping avoid local optima."
      ],
      "metadata": {
        "id": "QAU79Z7EIeZE"
      },
      "id": "QAU79Z7EIeZE"
    },
    {
      "cell_type": "code",
      "source": [
        "# Exchange function to swap regions in a path to introduce diversity\n",
        "def exchange(path):\n",
        "    i, j = random.sample(range(1, len(path) - 1), 2)\n",
        "    path[i], path[j] = path[j], path[i]\n",
        "    return path"
      ],
      "metadata": {
        "id": "c6G18IoaIhOY"
      },
      "id": "c6G18IoaIhOY",
      "execution_count": null,
      "outputs": []
    },
    {
      "cell_type": "markdown",
      "source": [
        "### 7. Successor Function\n",
        "This function applies mutation based on a predefined rate, allowing slight modifications to paths, enhancing exploration."
      ],
      "metadata": {
        "id": "ERAkbl-QIi-z"
      },
      "id": "ERAkbl-QIi-z"
    },
    {
      "cell_type": "code",
      "source": [
        "# Successor function to generate the next best path by slight modification\n",
        "def successor(path, pheromone):\n",
        "    new_path = path[:]\n",
        "    if random.random() < mutation_rate:\n",
        "        new_path = exchange(new_path)\n",
        "    return new_path"
      ],
      "metadata": {
        "id": "ThKz5Tl9IlsQ"
      },
      "id": "ThKz5Tl9IlsQ",
      "execution_count": null,
      "outputs": []
    },
    {
      "cell_type": "markdown",
      "source": [
        "### 8. Main Genetic Algorithm Function\n",
        "This function iteratively evolves the population over multiple generations, selecting the best paths for each generation. The best path is then returned as the optimized solution."
      ],
      "metadata": {
        "id": "4z8NqVE_InxJ"
      },
      "id": "4z8NqVE_InxJ"
    },
    {
      "cell_type": "code",
      "source": [
        "# Main Genetic Algorithm function\n",
        "def genetic_algorithm(start_region, probabilities, pheromone):\n",
        "    # Generate initial population\n",
        "    population = generate_initial_population(start_region, probabilities)\n",
        "\n",
        "    for generation in range(num_generations):\n",
        "        new_population = []\n",
        "\n",
        "        # Generate new population using crossover and mutation\n",
        "        while len(new_population) < population_size:\n",
        "            parent1, parent2 = selection(population, pheromone)\n",
        "            child = crossover(parent1, parent2)\n",
        "            child = successor(child, pheromone)\n",
        "            new_population.append(child)\n",
        "\n",
        "        # Select the best paths to carry over to the next generation\n",
        "        population = sorted(new_population, key=lambda path: fitness_function(path, pheromone), reverse=True)[:population_size]\n",
        "\n",
        "    # Return the best path from the final generation\n",
        "    best_path = max(population, key=lambda path: fitness_function(path, pheromone))\n",
        "    return best_path, fitness_function(best_path, pheromone)"
      ],
      "metadata": {
        "id": "Gmj3MxIHInhM"
      },
      "id": "Gmj3MxIHInhM",
      "execution_count": null,
      "outputs": []
    },
    {
      "cell_type": "markdown",
      "source": [
        "## Summary\n",
        "In Task 1, the Genetic Algorithm (GA) was implemented to optimize rescue paths for agents based on travel time and pheromone levels. This task involved several key components:\n",
        "\n",
        "* Initial Population Generation: Using ACO-generated pheromone data, a diverse set of initial paths was created, ensuring that the GA starts with viable routes.\n",
        "* Fitness Evaluation: Each path was evaluated with a fitness function that considers both travel distance and pheromone intensity, encouraging paths that balance efficiency and existing trail strength.\n",
        "* Selection, Crossover, and Mutation: The GA used natural selection principles, with selection favoring high-fitness paths, crossover creating new paths by combining parent paths, and mutation adding variation to avoid local optima.\n",
        "\n",
        "By iterating through these steps across generations, the GA refined the population of paths, eventually producing an optimized path with minimal travel time and strong pheromone levels.\n",
        "\n",
        "How This Helps the Next Step:  \n",
        "The output from the GA—the optimized rescue path—is a critical input for the disaster response simulation. This path provides a well-coordinated route for agents, enabling them to efficiently cover all regions and prioritize high-damage areas. This optimized path also informs subsequent rescue operations, ensuring that resource allocation and response time are minimized as the simulation moves forward."
      ],
      "metadata": {
        "id": "Tp1FpatiItPT"
      },
      "id": "Tp1FpatiItPT"
    },
    {
      "cell_type": "markdown",
      "id": "09ac383f",
      "metadata": {
        "id": "09ac383f"
      },
      "source": [
        "## Task 3: Minmax Algorithm with Alpha-Beta Pruning and Enhancements"
      ]
    },
    {
      "cell_type": "markdown",
      "id": "ae23ae49",
      "metadata": {
        "id": "ae23ae49"
      },
      "source": [
        "Goal:  \n",
        "The goal of Task 3 is to optimize resource allocation in competitive rescue scenarios. Using the Minimax algorithm with Alpha-Beta pruning, this approach models the interaction between rescue agents (maximizing player) and disaster effects (minimizing player). The algorithm aims to maximize resource effectiveness by assigning optimal units to regions while considering disaster spread as a competing factor.\n",
        "\n",
        "Integration:  \n",
        "* Input: Optimized paths generated from the Genetic Algorithm (Task 1) and ACO-derived region priorities. The initial resources (fire trucks and police units) and current region conditions (road blockages and fire levels) are also inputs.\n",
        "* Output: Optimal allocation of fire and police units for each region along the prioritized path, ensuring maximum effectiveness against the spread of disaster conditions.\n",
        "* Next Step: The optimized resource allocation informs the main simulation, enabling agents to respond efficiently to evolving conditions in real-time.\n",
        "\n",
        "Who is Max Player?  \n",
        "The Max Player is the rescue team (fire trucks and police units). The Max Player’s goal is to maximize the utility by effectively allocating resources to reduce fire levels and clear road blockages in each region. In each turn, the rescue team aims to achieve the highest possible impact through optimal deployment of resources.\n",
        "\n",
        "Who is Min Player?  \n",
        "The Min Player represents the disaster effects, such as fire spread and road blockages. The Min Player’s objective is to minimize the effectiveness of the rescue efforts by simulating adverse conditions. This includes increasing fire levels and road blockages, essentially adding obstacles and testing the resilience of the rescue team's strategy.\n",
        "\n",
        "Game Tree Construction:  \n",
        "Any data should be prepared by pre-computation? Utility?\n",
        "\n",
        "Pre-computation of Data:  \n",
        "To efficiently construct the game tree, certain data, such as region damage levels and prioritized paths, should be prepared in advance. Pre-computing the maximum allowed units for each region based on its damage level (e.g., more resources for high-damage regions) can streamline the Minimax evaluations.\n",
        "Utility Function: The utility function should be defined based on the impact of resource allocation in reducing fire and road blockages. Utility can be pre-computed or cached for specific allocations in regions with similar conditions to reduce computational overhead."
      ]
    },
    {
      "cell_type": "markdown",
      "source": [
        "### 1. Define Minimax Function with Alpha-Beta Pruning\n",
        "This function uses the Minimax algorithm with Alpha-Beta pruning to optimize resource allocation. The function explores possible actions by rescue agents, simulating resource allocation for both the maximizing player (rescue) and minimizing player (disaster spread)."
      ],
      "metadata": {
        "id": "JRdF9AigKaAE"
      },
      "id": "JRdF9AigKaAE"
    },
    {
      "cell_type": "code",
      "execution_count": null,
      "id": "3f167e83",
      "metadata": {
        "id": "3f167e83"
      },
      "outputs": [],
      "source": [
        "def minimax(path, depth, remaining_fire_units, remaining_police_units, alpha, beta, maximizing_player):\n",
        "    if depth == len(path):  # Base case: end of path\n",
        "        return 0  # Utility at the terminal node\n",
        "\n",
        "    current_region = path[depth]\n",
        "    max_units_for_region = MAX_UNITS_PER_REGION if regions[current_region][\"damage_level\"] == \"H\" else 2  # Cap for Medium regions\n",
        "\n",
        "    # Maximizing player's turn (Rescue team)\n",
        "    if maximizing_player:\n",
        "        max_utility = float('-inf')\n",
        "        for fire_allocation in range(min(remaining_fire_units, max_units_for_region) + 1):\n",
        "            for police_allocation in range(min(remaining_police_units, max_units_for_region) + 1):\n",
        "                utility = evaluate_utility(current_region, fire_allocation, police_allocation)\n",
        "                remaining_fire = remaining_fire_units - fire_allocation\n",
        "                remaining_police = remaining_police_units - police_allocation\n",
        "                utility += minimax(path, depth + 1, remaining_fire, remaining_police, alpha, beta, False)\n",
        "                max_utility = max(max_utility, utility)\n",
        "                alpha = max(alpha, utility)\n",
        "                if beta <= alpha:  # Alpha-Beta Pruning\n",
        "                    break\n",
        "            if beta <= alpha:\n",
        "                break\n",
        "        return max_utility\n",
        "\n",
        "    # Minimizing player's turn (Disaster spread)\n",
        "    else:\n",
        "        min_utility = float('inf')\n",
        "        for fire_spread in range(10, 30 + 1, 10):  # Example fire spread increments\n",
        "            for blockage_increase in range(10, 30 + 1, 10):  # Example blockage increments\n",
        "                # Calculate the impact of disaster conditions\n",
        "                regions[current_region][\"fires\"] = min(100, regions[current_region][\"fires\"] + fire_spread)\n",
        "                regions[current_region][\"roads_blocked\"] = min(100, regions[current_region][\"roads_blocked\"] + blockage_increase)\n",
        "\n",
        "                # Recursively call minimax for the next region, maximizing player's turn\n",
        "                utility = -evaluate_utility(current_region, remaining_fire_units, remaining_police_units)\n",
        "                utility += minimax(path, depth + 1, remaining_fire_units, remaining_police_units, alpha, beta, True)\n",
        "\n",
        "                # Reset region damage after simulation\n",
        "                regions[current_region][\"fires\"] -= fire_spread\n",
        "                regions[current_region][\"roads_blocked\"] -= blockage_increase\n",
        "\n",
        "                # Update min utility and beta for minimizing player\n",
        "                min_utility = min(min_utility, utility)\n",
        "                beta = min(beta, utility)\n",
        "\n",
        "                if beta <= alpha:  # Alpha-Beta Pruning\n",
        "                    break\n",
        "            if beta <= alpha:\n",
        "                break\n",
        "        return min_utility"
      ]
    },
    {
      "cell_type": "markdown",
      "source": [
        "### 2. Optimal Resource Allocation Function\n",
        "This function uses the Minimax algorithm to determine the optimal allocation of fire and police units for each region along a prioritized path. It iterates through feasible allocations, maximizing utility by using the Minimax decision tree."
      ],
      "metadata": {
        "id": "3U-KcnGKKe6-"
      },
      "id": "3U-KcnGKKe6-"
    },
    {
      "cell_type": "code",
      "source": [
        "def optimal_resource_allocation(path, initial_fire_units, initial_police_units):\n",
        "    prioritized_path = get_prioritized_regions()\n",
        "    best_utility = float('-inf')\n",
        "    best_fire_allocation, best_police_allocation = 0, 0\n",
        "\n",
        "    # Limit the allocation to what is available\n",
        "    max_fire_allocation = min(initial_fire_units, remaining_fire_units)\n",
        "    max_police_allocation = min(initial_police_units, remaining_police_units)\n",
        "\n",
        "    for fire_allocation in range(1, max_fire_allocation + 1):\n",
        "        for police_allocation in range(1, max_police_allocation + 1):\n",
        "            utility = minimax(prioritized_path, 0, fire_allocation, police_allocation, float('-inf'), float('inf'), True)\n",
        "            if utility > best_utility:\n",
        "                best_utility, best_fire_allocation, best_police_allocation = utility, fire_allocation, police_allocation\n",
        "\n",
        "    return best_fire_allocation, best_police_allocation"
      ],
      "metadata": {
        "id": "AyJGphuTKlAW"
      },
      "id": "AyJGphuTKlAW",
      "execution_count": null,
      "outputs": []
    },
    {
      "cell_type": "markdown",
      "source": [
        "## Summary\n",
        "In Task 3, the Minimax algorithm with Alpha-Beta pruning was implemented to optimize the allocation of fire trucks and police units for each region. This process involved:\n",
        "\n",
        "* Maximizing Resource Utility:  \n",
        "By alternating turns between the rescue team (maximizing player) and the disaster effects (minimizing player), the Minimax function determines the most effective allocation of resources.\n",
        "* Alpha-Beta Pruning:  \n",
        "Alpha-Beta pruning reduces unnecessary computations by ignoring suboptimal branches, making the decision-making process more efficient.\n",
        "* Simulating Disaster Spread:  \n",
        "By incorporating the disaster’s impact on the regions (such as fire spread and road blockage increases), the algorithm considers worst-case scenarios, allowing for preemptive planning.\n",
        "\n",
        "How This Helps the Next Step:  \n",
        "The output from Task 3—optimized allocations of fire trucks and police units—is used directly in the main simulation. These allocations ensure that resources are deployed where they are most needed, balancing response time and the scale of regional damage. This step supports the real-time responsiveness of the overall disaster response system, equipping agents with a strategic plan for dealing with worsening conditions efficiently."
      ],
      "metadata": {
        "id": "qnNJsrExKnQ5"
      },
      "id": "qnNJsrExKnQ5"
    },
    {
      "cell_type": "markdown",
      "id": "7b0448e2",
      "metadata": {
        "id": "7b0448e2"
      },
      "source": [
        "## Task 4: Game Theory for Multi-Agent Systems"
      ]
    },
    {
      "cell_type": "markdown",
      "id": "b5c85a2a",
      "metadata": {
        "id": "b5c85a2a"
      },
      "source": [
        "Goal:  \n",
        "The goal of Task 4 is to use game theory to determine the most effective allocation strategy for fire and police units based on their combined damage reduction impact. By modeling different allocation combinations in a payoff matrix, this task enables a strategic analysis of unit allocation, maximizing damage reduction across regions. This approach supports identifying optimal strategies for resource deployment, considering the interactions between police and fire unit allocations.\n",
        "\n",
        "Integration:  \n",
        "\n",
        "* Input: Available units for police and fire trucks, region states (road blockages and fire levels), and possible allocation options.\n",
        "* Output: A payoff matrix that represents the effectiveness of different allocation combinations for damage reduction.\n",
        "* Next Step: The payoff matrix from Task 4 helps to identify equilibrium or dominant strategies, guiding the actual allocation of resources in the disaster response simulation."
      ]
    },
    {
      "cell_type": "markdown",
      "source": [
        "### 1. Create Payoff Matrix Function\n",
        "This function creates an empty payoff matrix based on the possible allocation options for police and fire units. Each cell will represent the total damage reduction achieved by a specific allocation combination."
      ],
      "metadata": {
        "id": "wm38yDBLLa2T"
      },
      "id": "wm38yDBLLa2T"
    },
    {
      "cell_type": "code",
      "execution_count": null,
      "id": "b5b0b2eb",
      "metadata": {
        "id": "b5b0b2eb"
      },
      "outputs": [],
      "source": [
        "def create_payoff_matrix(police_allocation_options, fire_allocation_options):\n",
        "    \"\"\"Creates and initializes an empty payoff matrix based on possible allocations.\"\"\"\n",
        "    return [[0 for _ in range(len(police_allocation_options))] for _ in range(len(fire_allocation_options))]"
      ]
    },
    {
      "cell_type": "markdown",
      "source": [
        "### 2. Evaluate Strategy Function\n",
        "This function iterates over each allocation combination for fire and police units, calculating the total damage reduction. The matrix is populated based on the combined impact of police and fire allocations, reflecting how effectively each strategy combination reduces regional damage."
      ],
      "metadata": {
        "id": "y50BihrCLmid"
      },
      "id": "y50BihrCLmid"
    },
    {
      "cell_type": "code",
      "source": [
        "# Enhanced payoff matrix for prioritizing high-impact allocations\n",
        "def evaluate_optimized_strategy(matrix, police_actions, fire_actions, regions_state):\n",
        "    for i, f_units in enumerate(fire_actions):\n",
        "        for j, p_units in enumerate(police_actions):\n",
        "            damage_reduction = 0\n",
        "            for region, damage in regions_state.items():\n",
        "                police_reduction = min(damage[\"roads_blocked\"], p_units * 10)\n",
        "                fire_reduction = min(damage[\"fires\"], f_units * 10)\n",
        "                damage_reduction += police_reduction + fire_reduction\n",
        "            # Weigh higher impact actions more heavily\n",
        "            matrix[i][j] = damage_reduction * (1.1 if damage_reduction > 50 else 1.0)\n",
        "    return matrix"
      ],
      "metadata": {
        "id": "A0_DfK65LpYX"
      },
      "id": "A0_DfK65LpYX",
      "execution_count": null,
      "outputs": []
    },
    {
      "cell_type": "markdown",
      "source": [
        "### 3. Define Police and Fire Allocation Options\n",
        "These lists define the allocation options available for both police and fire units based on their respective maximum units. Each option represents a possible number of units that can be deployed, and these are used to populate the payoff matrix."
      ],
      "metadata": {
        "id": "KDCGRxR3LrlD"
      },
      "id": "KDCGRxR3LrlD"
    },
    {
      "cell_type": "code",
      "source": [
        "# Define police and fire unit allocation options based on available units\n",
        "police_actions = list(range(1, total_police_units + 1))  # Options from 1 to max police units\n",
        "fire_actions = list(range(1, total_fire_truck_units + 1))  # Options from 1 to max fire trucks"
      ],
      "metadata": {
        "id": "VnFOMoOxLy1F"
      },
      "id": "VnFOMoOxLy1F",
      "execution_count": null,
      "outputs": []
    },
    {
      "cell_type": "markdown",
      "source": [
        "### 4. Create and Evaluate Payoff Matrix\n",
        "The payoff matrix is created and then evaluated using the evaluate_strategy function. The matrix is printed to display the effectiveness of different allocation combinations."
      ],
      "metadata": {
        "id": "E1Nr4G43MPCp"
      },
      "id": "E1Nr4G43MPCp"
    },
    {
      "cell_type": "code",
      "source": [
        "# Create payoff matrix and evaluate strategies\n",
        "payoff_matrix = create_payoff_matrix(police_actions, fire_actions)\n",
        "payoff_matrix = evaluate_strategy(payoff_matrix, police_actions, fire_actions, regions)\n",
        "\n",
        "# Display the payoff matrix\n",
        "print(\"Payoff Matrix (Damage Reduction):\")\n",
        "for row in payoff_matrix:\n",
        "    print(row)"
      ],
      "metadata": {
        "colab": {
          "base_uri": "https://localhost:8080/"
        },
        "id": "rgxYEx5CMVo8",
        "outputId": "ed39955f-d4df-46b1-b981-a82358fda059"
      },
      "id": "rgxYEx5CMVo8",
      "execution_count": null,
      "outputs": [
        {
          "output_type": "stream",
          "name": "stdout",
          "text": [
            "Payoff Matrix (Damage Reduction):\n",
            "[83, 118, 148, 173, 183, 193]\n",
            "[113, 148, 178, 203, 213, 223]\n",
            "[138, 173, 203, 228, 238, 248]\n",
            "[143, 178, 208, 233, 243, 253]\n",
            "[143, 178, 208, 233, 243, 253]\n",
            "[143, 178, 208, 233, 243, 253]\n",
            "[143, 178, 208, 233, 243, 253]\n",
            "[143, 178, 208, 233, 243, 253]\n"
          ]
        }
      ]
    },
    {
      "cell_type": "markdown",
      "source": [
        "## Summary\n",
        "In Task 4, game theory principles were applied to analyze resource allocation strategies, focusing on maximizing damage reduction through effective police and fire unit allocations. This process involved:\n",
        "\n",
        "* Constructing a Payoff Matrix: The payoff matrix mapped the effectiveness of different allocation combinations for police and fire units, representing the impact on damage reduction.\n",
        "* Evaluating Strategies: Each cell in the matrix was populated based on calculated damage reduction for each allocation pair, helping identify strategies with high effectiveness.  \n",
        "\n",
        "How This Helps the Next Step:  \n",
        "The payoff matrix from Task 4 serves as a foundation for determining equilibrium or dominant strategies in resource allocation. By understanding the impact of different allocations, the simulation can prioritize unit deployment that maximizes overall damage reduction, informing strategic decisions in real-time response efforts."
      ],
      "metadata": {
        "id": "sGz3YcMfMaAL"
      },
      "id": "sGz3YcMfMaAL"
    },
    {
      "cell_type": "markdown",
      "id": "6a42b2d7",
      "metadata": {
        "id": "6a42b2d7"
      },
      "source": [
        "## Task 5: Bayesian Networks for Uncertain Inferences"
      ]
    },
    {
      "cell_type": "markdown",
      "id": "5bc1b99e",
      "metadata": {
        "id": "5bc1b99e"
      },
      "source": [
        "Goal:  \n",
        "The goal of Task 5 is to use a Bayesian Network to model the uncertainties in rescue operations. By defining relationships between factors like fire severity, road blockages, travel time, and rescue effectiveness, the network provides probabilistic insights into how these variables impact each other. This probabilistic model supports making informed decisions under uncertainty, allowing agents to adapt their actions based on the likely outcomes of different scenarios.\n",
        "\n",
        "Integration:  \n",
        "\n",
        "* Input:  \n",
        "The Bayesian Network uses prior probabilities for fire severity, road blockages, and resource availability, along with conditional dependencies that affect travel time and rescue effectiveness.\n",
        "* Output:  \n",
        "The network produces inference results that quantify the likelihood of high, medium, or low rescue effectiveness under specific conditions, such as travel time and resource availability.\n",
        "* Next Step:  \n",
        "The inference results from the Bayesian Network guide the allocation and prioritization of resources, allowing the simulation to make probabilistically informed decisions based on real-time data and evolving disaster conditions.\n"
      ]
    },
    {
      "cell_type": "markdown",
      "source": [
        "### 1. Define the Bayesian Network Structure\n",
        "This section establishes the structure of the Bayesian Network by specifying dependencies between variables. Here, FS (Fire Severity) and RB (Road Blockages) influence TT (Travel Time), while TT and RA (Resource Availability) impact RE (Rescue Effectiveness)."
      ],
      "metadata": {
        "id": "9kaT5VmjM5KB"
      },
      "id": "9kaT5VmjM5KB"
    },
    {
      "cell_type": "code",
      "execution_count": null,
      "id": "14d8a942",
      "metadata": {
        "colab": {
          "base_uri": "https://localhost:8080/"
        },
        "id": "14d8a942",
        "outputId": "0141e842-5c34-49ec-fb9b-dc7fbefd0bf4"
      },
      "outputs": [
        {
          "output_type": "stream",
          "name": "stdout",
          "text": [
            "Requirement already satisfied: pgmpy in /usr/local/lib/python3.10/dist-packages (0.1.26)\n",
            "Requirement already satisfied: networkx in /usr/local/lib/python3.10/dist-packages (from pgmpy) (3.4.2)\n",
            "Requirement already satisfied: numpy in /usr/local/lib/python3.10/dist-packages (from pgmpy) (1.26.4)\n",
            "Requirement already satisfied: scipy in /usr/local/lib/python3.10/dist-packages (from pgmpy) (1.13.1)\n",
            "Requirement already satisfied: scikit-learn in /usr/local/lib/python3.10/dist-packages (from pgmpy) (1.5.2)\n",
            "Requirement already satisfied: pandas in /usr/local/lib/python3.10/dist-packages (from pgmpy) (2.2.2)\n",
            "Requirement already satisfied: pyparsing in /usr/local/lib/python3.10/dist-packages (from pgmpy) (3.2.0)\n",
            "Requirement already satisfied: torch in /usr/local/lib/python3.10/dist-packages (from pgmpy) (2.5.0+cu121)\n",
            "Requirement already satisfied: statsmodels in /usr/local/lib/python3.10/dist-packages (from pgmpy) (0.14.4)\n",
            "Requirement already satisfied: tqdm in /usr/local/lib/python3.10/dist-packages (from pgmpy) (4.66.6)\n",
            "Requirement already satisfied: joblib in /usr/local/lib/python3.10/dist-packages (from pgmpy) (1.4.2)\n",
            "Requirement already satisfied: opt-einsum in /usr/local/lib/python3.10/dist-packages (from pgmpy) (3.4.0)\n",
            "Requirement already satisfied: xgboost in /usr/local/lib/python3.10/dist-packages (from pgmpy) (2.1.2)\n",
            "Requirement already satisfied: google-generativeai in /usr/local/lib/python3.10/dist-packages (from pgmpy) (0.8.3)\n",
            "Requirement already satisfied: google-ai-generativelanguage==0.6.10 in /usr/local/lib/python3.10/dist-packages (from google-generativeai->pgmpy) (0.6.10)\n",
            "Requirement already satisfied: google-api-core in /usr/local/lib/python3.10/dist-packages (from google-generativeai->pgmpy) (2.19.2)\n",
            "Requirement already satisfied: google-api-python-client in /usr/local/lib/python3.10/dist-packages (from google-generativeai->pgmpy) (2.137.0)\n",
            "Requirement already satisfied: google-auth>=2.15.0 in /usr/local/lib/python3.10/dist-packages (from google-generativeai->pgmpy) (2.27.0)\n",
            "Requirement already satisfied: protobuf in /usr/local/lib/python3.10/dist-packages (from google-generativeai->pgmpy) (3.20.3)\n",
            "Requirement already satisfied: pydantic in /usr/local/lib/python3.10/dist-packages (from google-generativeai->pgmpy) (2.9.2)\n",
            "Requirement already satisfied: typing-extensions in /usr/local/lib/python3.10/dist-packages (from google-generativeai->pgmpy) (4.12.2)\n",
            "Requirement already satisfied: proto-plus<2.0.0dev,>=1.22.3 in /usr/local/lib/python3.10/dist-packages (from google-ai-generativelanguage==0.6.10->google-generativeai->pgmpy) (1.25.0)\n",
            "Requirement already satisfied: python-dateutil>=2.8.2 in /usr/local/lib/python3.10/dist-packages (from pandas->pgmpy) (2.8.2)\n",
            "Requirement already satisfied: pytz>=2020.1 in /usr/local/lib/python3.10/dist-packages (from pandas->pgmpy) (2024.2)\n",
            "Requirement already satisfied: tzdata>=2022.7 in /usr/local/lib/python3.10/dist-packages (from pandas->pgmpy) (2024.2)\n",
            "Requirement already satisfied: threadpoolctl>=3.1.0 in /usr/local/lib/python3.10/dist-packages (from scikit-learn->pgmpy) (3.5.0)\n",
            "Requirement already satisfied: patsy>=0.5.6 in /usr/local/lib/python3.10/dist-packages (from statsmodels->pgmpy) (0.5.6)\n",
            "Requirement already satisfied: packaging>=21.3 in /usr/local/lib/python3.10/dist-packages (from statsmodels->pgmpy) (24.1)\n",
            "Requirement already satisfied: filelock in /usr/local/lib/python3.10/dist-packages (from torch->pgmpy) (3.16.1)\n",
            "Requirement already satisfied: jinja2 in /usr/local/lib/python3.10/dist-packages (from torch->pgmpy) (3.1.4)\n",
            "Requirement already satisfied: fsspec in /usr/local/lib/python3.10/dist-packages (from torch->pgmpy) (2024.10.0)\n",
            "Requirement already satisfied: sympy==1.13.1 in /usr/local/lib/python3.10/dist-packages (from torch->pgmpy) (1.13.1)\n",
            "Requirement already satisfied: mpmath<1.4,>=1.1.0 in /usr/local/lib/python3.10/dist-packages (from sympy==1.13.1->torch->pgmpy) (1.3.0)\n",
            "Requirement already satisfied: nvidia-nccl-cu12 in /usr/local/lib/python3.10/dist-packages (from xgboost->pgmpy) (2.23.4)\n",
            "Requirement already satisfied: googleapis-common-protos<2.0.dev0,>=1.56.2 in /usr/local/lib/python3.10/dist-packages (from google-api-core->google-generativeai->pgmpy) (1.65.0)\n",
            "Requirement already satisfied: requests<3.0.0.dev0,>=2.18.0 in /usr/local/lib/python3.10/dist-packages (from google-api-core->google-generativeai->pgmpy) (2.32.3)\n",
            "Requirement already satisfied: cachetools<6.0,>=2.0.0 in /usr/local/lib/python3.10/dist-packages (from google-auth>=2.15.0->google-generativeai->pgmpy) (5.5.0)\n",
            "Requirement already satisfied: pyasn1-modules>=0.2.1 in /usr/local/lib/python3.10/dist-packages (from google-auth>=2.15.0->google-generativeai->pgmpy) (0.4.1)\n",
            "Requirement already satisfied: rsa<5,>=3.1.4 in /usr/local/lib/python3.10/dist-packages (from google-auth>=2.15.0->google-generativeai->pgmpy) (4.9)\n",
            "Requirement already satisfied: six in /usr/local/lib/python3.10/dist-packages (from patsy>=0.5.6->statsmodels->pgmpy) (1.16.0)\n",
            "Requirement already satisfied: httplib2<1.dev0,>=0.19.0 in /usr/local/lib/python3.10/dist-packages (from google-api-python-client->google-generativeai->pgmpy) (0.22.0)\n",
            "Requirement already satisfied: google-auth-httplib2<1.0.0,>=0.2.0 in /usr/local/lib/python3.10/dist-packages (from google-api-python-client->google-generativeai->pgmpy) (0.2.0)\n",
            "Requirement already satisfied: uritemplate<5,>=3.0.1 in /usr/local/lib/python3.10/dist-packages (from google-api-python-client->google-generativeai->pgmpy) (4.1.1)\n",
            "Requirement already satisfied: MarkupSafe>=2.0 in /usr/local/lib/python3.10/dist-packages (from jinja2->torch->pgmpy) (3.0.2)\n",
            "Requirement already satisfied: annotated-types>=0.6.0 in /usr/local/lib/python3.10/dist-packages (from pydantic->google-generativeai->pgmpy) (0.7.0)\n",
            "Requirement already satisfied: pydantic-core==2.23.4 in /usr/local/lib/python3.10/dist-packages (from pydantic->google-generativeai->pgmpy) (2.23.4)\n",
            "Requirement already satisfied: grpcio<2.0dev,>=1.33.2 in /usr/local/lib/python3.10/dist-packages (from google-api-core[grpc]!=2.0.*,!=2.1.*,!=2.10.*,!=2.2.*,!=2.3.*,!=2.4.*,!=2.5.*,!=2.6.*,!=2.7.*,!=2.8.*,!=2.9.*,<3.0.0dev,>=1.34.1->google-ai-generativelanguage==0.6.10->google-generativeai->pgmpy) (1.64.1)\n",
            "Requirement already satisfied: grpcio-status<2.0.dev0,>=1.33.2 in /usr/local/lib/python3.10/dist-packages (from google-api-core[grpc]!=2.0.*,!=2.1.*,!=2.10.*,!=2.2.*,!=2.3.*,!=2.4.*,!=2.5.*,!=2.6.*,!=2.7.*,!=2.8.*,!=2.9.*,<3.0.0dev,>=1.34.1->google-ai-generativelanguage==0.6.10->google-generativeai->pgmpy) (1.48.2)\n",
            "Requirement already satisfied: pyasn1<0.7.0,>=0.4.6 in /usr/local/lib/python3.10/dist-packages (from pyasn1-modules>=0.2.1->google-auth>=2.15.0->google-generativeai->pgmpy) (0.6.1)\n",
            "Requirement already satisfied: charset-normalizer<4,>=2 in /usr/local/lib/python3.10/dist-packages (from requests<3.0.0.dev0,>=2.18.0->google-api-core->google-generativeai->pgmpy) (3.4.0)\n",
            "Requirement already satisfied: idna<4,>=2.5 in /usr/local/lib/python3.10/dist-packages (from requests<3.0.0.dev0,>=2.18.0->google-api-core->google-generativeai->pgmpy) (3.10)\n",
            "Requirement already satisfied: urllib3<3,>=1.21.1 in /usr/local/lib/python3.10/dist-packages (from requests<3.0.0.dev0,>=2.18.0->google-api-core->google-generativeai->pgmpy) (2.2.3)\n",
            "Requirement already satisfied: certifi>=2017.4.17 in /usr/local/lib/python3.10/dist-packages (from requests<3.0.0.dev0,>=2.18.0->google-api-core->google-generativeai->pgmpy) (2024.8.30)\n"
          ]
        }
      ],
      "source": [
        "#Install pgmpy\n",
        "!pip install pgmpy\n",
        "from pgmpy.models import BayesianNetwork\n",
        "\n",
        "# Step 1: Define the structure of the Bayesian Network\n",
        "bayesian_model = BayesianNetwork([\n",
        "    (\"FS\", \"TT\"),  # Fire Severity affects Travel Time\n",
        "    (\"RB\", \"TT\"),  # Road Blockages affect Travel Time\n",
        "    (\"TT\", \"RE\"),  # Travel Time affects Rescue Effectiveness\n",
        "    (\"RA\", \"RE\")   # Resource Availability affects Rescue Effectiveness\n",
        "])"
      ]
    },
    {
      "cell_type": "markdown",
      "source": [
        "### 2. Define Conditional Probability Tables (CPTs)\n",
        "Each node in the Bayesian Network is assigned a Conditional Probability Table (CPT), specifying the probabilities for different states. For instance, FS (Fire Severity) has three states with defined prior probabilities, while TT (Travel Time) depends on both FS and RB."
      ],
      "metadata": {
        "id": "cGSq9LDMNKK5"
      },
      "id": "cGSq9LDMNKK5"
    },
    {
      "cell_type": "code",
      "source": [
        "from pgmpy.factors.discrete import TabularCPD\n",
        "\n",
        "# Fire Severity (FS) - Prior probabilities\n",
        "cpd_fs = TabularCPD(variable=\"FS\", variable_card=3, values=[[0.3], [0.5], [0.2]],\n",
        "                    state_names={\"FS\": [\"Low\", \"Medium\", \"High\"]})\n",
        "\n",
        "# Road Blockages (RB) - Prior probabilities\n",
        "cpd_rb = TabularCPD(variable=\"RB\", variable_card=3, values=[[0.4], [0.4], [0.2]],\n",
        "                    state_names={\"RB\": [\"Low\", \"Medium\", \"High\"]})\n",
        "\n",
        "# Travel Time (TT) - Conditional on FS and RB\n",
        "cpd_tt = TabularCPD(variable=\"TT\", variable_card=3,\n",
        "                    values=[\n",
        "                        [0.8, 0.6, 0.4, 0.7, 0.5, 0.3, 0.6, 0.3, 0.1],  # Low Travel Time\n",
        "                        [0.15, 0.3, 0.4, 0.2, 0.4, 0.5, 0.3, 0.5, 0.4], # Medium Travel Time\n",
        "                        [0.05, 0.1, 0.2, 0.1, 0.1, 0.2, 0.1, 0.2, 0.5]  # High Travel Time\n",
        "                    ],\n",
        "                    evidence=[\"FS\", \"RB\"], evidence_card=[3, 3],\n",
        "                    state_names={\"TT\": [\"Low\", \"Medium\", \"High\"], \"FS\": [\"Low\", \"Medium\", \"High\"], \"RB\": [\"Low\", \"Medium\", \"High\"]})\n",
        "\n",
        "# Resource Availability (RA) - Prior probabilities\n",
        "cpd_ra = TabularCPD(variable=\"RA\", variable_card=3, values=[[0.5], [0.3], [0.2]],\n",
        "                    state_names={\"RA\": [\"Low\", \"Medium\", \"High\"]})\n",
        "\n",
        "# Rescue Effectiveness (RE) - Conditional on TT and RA\n",
        "cpd_re = TabularCPD(variable=\"RE\", variable_card=3,\n",
        "                    values=[\n",
        "                        [0.7, 0.6, 0.4, 0.6, 0.5, 0.3, 0.4, 0.3, 0.2],  # High Effectiveness\n",
        "                        [0.2, 0.3, 0.4, 0.3, 0.4, 0.5, 0.4, 0.5, 0.4],  # Medium Effectiveness\n",
        "                        [0.1, 0.1, 0.2, 0.1, 0.1, 0.2, 0.2, 0.2, 0.4]   # Low Effectiveness\n",
        "                    ],\n",
        "                    evidence=[\"TT\", \"RA\"], evidence_card=[3, 3],\n",
        "                    state_names={\"RE\": [\"High\", \"Medium\", \"Low\"], \"TT\": [\"Low\", \"Medium\", \"High\"], \"RA\": [\"Low\", \"Medium\", \"High\"]})\n"
      ],
      "metadata": {
        "id": "fROZ9KHENNAS"
      },
      "id": "fROZ9KHENNAS",
      "execution_count": null,
      "outputs": []
    },
    {
      "cell_type": "markdown",
      "source": [
        "### 3. Add CPTs to the Bayesian Network\n",
        "This step integrates the Conditional Probability Tables (CPTs) into the Bayesian model, defining the behavior of each variable based on its dependencies."
      ],
      "metadata": {
        "id": "P49He5E1NR9j"
      },
      "id": "P49He5E1NR9j"
    },
    {
      "cell_type": "code",
      "source": [
        "# Step 3: Add the CPDs to the model\n",
        "bayesian_model.add_cpds(cpd_fs, cpd_rb, cpd_tt, cpd_ra, cpd_re)"
      ],
      "metadata": {
        "id": "MFEEEX9cNWRV"
      },
      "id": "MFEEEX9cNWRV",
      "execution_count": null,
      "outputs": []
    },
    {
      "cell_type": "markdown",
      "source": [
        "### 4. Validate the Model Structure\n",
        "The check_model function validates the network structure to ensure that all dependencies are correctly established and that the model is mathematically sound."
      ],
      "metadata": {
        "id": "W1QpYtTyNX_w"
      },
      "id": "W1QpYtTyNX_w"
    },
    {
      "cell_type": "code",
      "source": [
        "# Step 4: Validate the model structure\n",
        "assert bayesian_model.check_model()"
      ],
      "metadata": {
        "id": "5ebX6Yh5NbT5"
      },
      "id": "5ebX6Yh5NbT5",
      "execution_count": null,
      "outputs": []
    },
    {
      "cell_type": "markdown",
      "source": [
        "### 5. Perform Inference\n",
        "Using Variable Elimination, we can query the network to make probabilistic predictions. In this example, we infer the probability of achieving high rescue effectiveness given specific conditions for travel time and resource availability."
      ],
      "metadata": {
        "id": "hhadvI_SNdb2"
      },
      "id": "hhadvI_SNdb2"
    },
    {
      "cell_type": "code",
      "source": [
        "from pgmpy.inference import VariableElimination\n",
        "\n",
        "# Step 5: Perform inference to optimize rescue decisions\n",
        "inference = VariableElimination(bayesian_model)\n",
        "\n",
        "# Example inference query: What is the probability of High Rescue Effectiveness given Medium Travel Time and High Resource Availability?\n",
        "query_result = inference.query(variables=[\"RE\"], evidence={\"TT\": \"Medium\", \"RA\": \"High\"})\n",
        "print(\"Inference Result (Probability of High Rescue Effectiveness):\")\n",
        "print(query_result)"
      ],
      "metadata": {
        "colab": {
          "base_uri": "https://localhost:8080/"
        },
        "id": "ydqQj6RBNgYg",
        "outputId": "18c9a69b-1199-49e8-a789-407139c21fe9"
      },
      "id": "ydqQj6RBNgYg",
      "execution_count": null,
      "outputs": [
        {
          "output_type": "stream",
          "name": "stdout",
          "text": [
            "Inference Result (Probability of High Rescue Effectiveness):\n",
            "+------------+-----------+\n",
            "| RE         |   phi(RE) |\n",
            "+============+===========+\n",
            "| RE(High)   |    0.3000 |\n",
            "+------------+-----------+\n",
            "| RE(Medium) |    0.5000 |\n",
            "+------------+-----------+\n",
            "| RE(Low)    |    0.2000 |\n",
            "+------------+-----------+\n"
          ]
        }
      ]
    },
    {
      "cell_type": "markdown",
      "source": [
        "## Summary\n",
        "In Task 5, a Bayesian Network was developed to model uncertainty in rescue operations, incorporating factors like fire severity, road blockages, travel time, and resource availability. Key steps included:\n",
        "\n",
        "* Defining the Network Structure and Dependencies:  \n",
        "Relationships between key variables were established, allowing each factor to influence related outcomes.\n",
        "* Adding Conditional Probability Tables:  \n",
        "Probabilities were assigned based on expected behaviors, enabling the network to compute how conditions impact rescue effectiveness.\n",
        "* Performing Inference:  \n",
        "The model allows probabilistic queries that provide insights into the likelihood of achieving specific levels of rescue effectiveness under given conditions.\n",
        "\n",
        "How This Helps the Next Step:\n",
        "The Bayesian Network provides critical probabilistic insights for real-time decision-making. By evaluating the probability of successful rescue efforts under different conditions, the simulation can adjust strategies, prioritize regions, and allocate resources with a data-driven approach. This support for uncertainty handling ensures that rescue operations are better adapted to evolving conditions and resource availability, enhancing overall disaster response effectiveness."
      ],
      "metadata": {
        "id": "MfS24jzdNiW6"
      },
      "id": "MfS24jzdNiW6"
    },
    {
      "cell_type": "markdown",
      "id": "184c5e07",
      "metadata": {
        "id": "184c5e07"
      },
      "source": [
        "# Final Simulation"
      ]
    },
    {
      "cell_type": "markdown",
      "id": "a6697bf4",
      "metadata": {
        "id": "a6697bf4"
      },
      "source": [
        "The final simulation orchestrates all the previously defined components, such as resource allocation (Genetic Algorithm, Task 1), adaptive pathfinding (Ant Colony Optimization, Task 2), strategic deployment (Minimax with Alpha-Beta Pruning, Task 3), resource strategy evaluation (Game Theory Payoff Matrix, Task 4), and uncertainty handling (Bayesian Network, Task 5). This integrated simulation follows a path optimized by the GA, performing resource allocation and adapting to disaster spread events in real time.\n",
        "\n",
        "Below is the code breakdown, incorporating functions from each task and running the final simulation loop to produce an overall summary of the disaster response results."
      ]
    },
    {
      "cell_type": "markdown",
      "source": [
        "## 1. Simulation Setup and Code Breakdown\n",
        "Simulation Parameters and Initialization\n",
        "Here we define the maximum simulation time (MAX_TIME) and set up the initial path and resources based on the GA results."
      ],
      "metadata": {
        "id": "vwbwpSfwOAz-"
      },
      "id": "vwbwpSfwOAz-"
    },
    {
      "cell_type": "code",
      "execution_count": null,
      "id": "981c1a88",
      "metadata": {
        "id": "981c1a88"
      },
      "outputs": [],
      "source": [
        "import time\n",
        "\n",
        "# Simulation parameters\n",
        "MAX_TIME = 90  # Maximum simulation time in minutes\n",
        "TIME_STEP = 10  # Time step in minutes\n",
        "\n",
        "# Initialize starting path from the GA (assuming path has already been calculated)\n",
        "start_region = \"R2\"  # Starting point based on initial fire truck allocation\n",
        "best_path, _ = genetic_algorithm(start_region, pheromone_fire, pheromone_fire)\n",
        "\n",
        "# Set initial allocations for remaining units based on starting regions\n",
        "remaining_fire_units = fire_truck_units.get(\"R2\", 0)\n",
        "remaining_police_units = police_units.get(\"R4\", 0)"
      ]
    },
    {
      "cell_type": "markdown",
      "source": [
        "## 2. Simulate Disaster Events\n",
        "This function triggers fire spread and aftershocks at specific intervals, as well as updating damage levels based on current conditions."
      ],
      "metadata": {
        "id": "2GpWNghYOFqD"
      },
      "id": "2GpWNghYOFqD"
    },
    {
      "cell_type": "code",
      "source": [
        "# Function to simulate time step events (fire spread and aftershocks)\n",
        "def simulate_disasters(elapsed_time):\n",
        "    if elapsed_time % 10 == 0:  # Fire spread every 10 minutes\n",
        "        spread_fire()\n",
        "    if elapsed_time % 15 == 0:  # Aftershock every 15 minutes\n",
        "        cause_aftershock()\n",
        "    update_damage_levels()  # Update damage levels based on current conditions"
      ],
      "metadata": {
        "id": "ao4eIMikOTfd"
      },
      "id": "ao4eIMikOTfd",
      "execution_count": null,
      "outputs": []
    },
    {
      "cell_type": "markdown",
      "source": [
        "Path evaluation"
      ],
      "metadata": {
        "id": "dSwdM81LeaRa"
      },
      "id": "dSwdM81LeaRa"
    },
    {
      "cell_type": "code",
      "source": [
        "# Function to dynamically re-evaluate the rescue path based on updated damage conditions\n",
        "def reevaluate_path_due_to_disaster(best_path, fire_units, police_units):\n",
        "    high_priority_regions = get_prioritized_regions()  # Get regions by damage priority\n",
        "    new_path = [region for region in best_path if region in high_priority_regions]  # Prioritize high-damage regions\n",
        "    if len(new_path) < len(best_path):  # Complete path with remaining regions\n",
        "        new_path += [region for region in best_path if region not in new_path]\n",
        "    return new_path"
      ],
      "metadata": {
        "id": "aBVzFFzweb5d"
      },
      "id": "aBVzFFzweb5d",
      "execution_count": null,
      "outputs": []
    },
    {
      "cell_type": "markdown",
      "source": [
        "## 3. Rescue Operations Function\n",
        "This function performs rescue operations by deploying resources until the fires and road blockages in a region are resolved."
      ],
      "metadata": {
        "id": "kI_KCyrUOVQ8"
      },
      "id": "kI_KCyrUOVQ8"
    },
    {
      "cell_type": "code",
      "source": [
        "# Function to perform rescue operations and use full resources until resolution\n",
        "def perform_rescue_operations(region):\n",
        "    global remaining_fire_units, remaining_police_units\n",
        "    initial_fire_units = remaining_fire_units\n",
        "    initial_police_units = remaining_police_units\n",
        "\n",
        "    # Deploy units until fires and blockages in the region are resolved\n",
        "    while regions[region][\"fires\"] > 0 and remaining_fire_units > 0:\n",
        "        fire_truck_rescue(region, 1)\n",
        "        remaining_fire_units -= 1\n",
        "    while regions[region][\"roads_blocked\"] > 0 and remaining_police_units > 0:\n",
        "        police_rescue(region, 1)\n",
        "        remaining_police_units -= 1\n",
        "\n",
        "    print(f\"\\nRegion {region} - Rescue Operations:\")\n",
        "    print(f\"  Fire units deployed: {initial_fire_units - remaining_fire_units}\")\n",
        "    print(f\"  Police units deployed: {initial_police_units - remaining_police_units}\")\n",
        "    print(f\"  Remaining Fire Units: {remaining_fire_units}, Remaining Police Units: {remaining_police_units}\")\n",
        "    print(f\"  Updated Fires: {regions[region]['fires']}%, Roads Blocked: {regions[region]['roads_blocked']}%\")"
      ],
      "metadata": {
        "id": "mF8J0ivOOaC7"
      },
      "id": "mF8J0ivOOaC7",
      "execution_count": null,
      "outputs": []
    },
    {
      "cell_type": "markdown",
      "source": [
        "## 4. Main Simulation Loop\n",
        "This loop iterates through each region in the optimized path, calculating travel time, performing rescue operations, and simulating disaster events. The loop stops if the maximum time is reached, and final region states are displayed."
      ],
      "metadata": {
        "id": "GaU6tR2VOdg3"
      },
      "id": "GaU6tR2VOdg3"
    },
    {
      "cell_type": "code",
      "source": [
        "# Main simulation loop\n",
        "elapsed_time = 0\n",
        "print(f\"\\n--- Starting Simulation for {MAX_TIME} Minutes ---\")\n",
        "\n",
        "for i in range(len(best_path) - 1):\n",
        "    current_region = best_path[i]\n",
        "    next_region = best_path[i + 1]\n",
        "\n",
        "    # Calculate travel time between regions considering road blockages\n",
        "    travel_time = edge_travel_time(current_region, next_region)\n",
        "    elapsed_time += travel_time\n",
        "\n",
        "    # If we've exceeded the time limit, terminate the simulation\n",
        "    if elapsed_time >= MAX_TIME:\n",
        "        print(\"\\nTime exceeded 90 minutes. Ending simulation.\")\n",
        "        break\n",
        "\n",
        "    # Perform rescue operations in the next region\n",
        "    perform_rescue_operations(next_region)\n",
        "\n",
        "    # Disaster events simulation\n",
        "    simulate_disasters(elapsed_time)\n",
        "    elapsed_time += TIME_STEP  # Increment by TIME_STEP after every disaster event\n",
        "\n",
        "    # Output travel time to next region\n",
        "    print(f\"Travel to {next_region} took {travel_time:.2f} minutes. Total elapsed time: {elapsed_time:.2f} minutes.\")"
      ],
      "metadata": {
        "colab": {
          "base_uri": "https://localhost:8080/"
        },
        "id": "pbga7PiDOgj7",
        "outputId": "b753df5d-02a8-4f1f-8746-3a4b9c0f3591"
      },
      "id": "pbga7PiDOgj7",
      "execution_count": null,
      "outputs": [
        {
          "output_type": "stream",
          "name": "stdout",
          "text": [
            "\n",
            "--- Starting Simulation for 90 Minutes ---\n",
            "Travel from R2 to R3: Distance = 3 km, Avg Blockage = 27.5%, Adjusted Speed = 43.50 km/h, Travel Time = 4.14 minutes\n",
            "Fire trucks reduced fire in R3 by 10%: 0\n",
            "Police reduced road blockage in R3 by 10%: 5\n",
            "Police reduced road blockage in R3 by 10%: 0\n",
            "\n",
            "Region R3 - Rescue Operations:\n",
            "  Fire units deployed: 1\n",
            "  Police units deployed: 2\n",
            "  Remaining Fire Units: 7, Remaining Police Units: 4\n",
            "  Updated Fires: 0%, Roads Blocked: 0%\n",
            "Damage levels updated: {'R1': 'H', 'R2': 'M', 'R3': 'L', 'R4': 'H', 'R5': 'L'}\n",
            "Travel to R3 took 4.14 minutes. Total elapsed time: 14.14 minutes.\n",
            "Travel from R3 to R4: Distance = 5 km, Avg Blockage = 17.5%, Adjusted Speed = 49.50 km/h, Travel Time = 6.06 minutes\n",
            "Fire trucks reduced fire in R4 by 10%: 20\n",
            "Fire trucks reduced fire in R4 by 10%: 10\n",
            "Fire trucks reduced fire in R4 by 10%: 0\n",
            "Police reduced road blockage in R4 by 10%: 25\n",
            "Police reduced road blockage in R4 by 10%: 15\n",
            "Police reduced road blockage in R4 by 10%: 5\n",
            "Police reduced road blockage in R4 by 10%: 0\n",
            "\n",
            "Region R4 - Rescue Operations:\n",
            "  Fire units deployed: 3\n",
            "  Police units deployed: 4\n",
            "  Remaining Fire Units: 4, Remaining Police Units: 0\n",
            "  Updated Fires: 0%, Roads Blocked: 0%\n",
            "Damage levels updated: {'R1': 'H', 'R2': 'M', 'R3': 'L', 'R4': 'L', 'R5': 'L'}\n",
            "Travel to R4 took 6.06 minutes. Total elapsed time: 30.20 minutes.\n",
            "Travel from R4 to R1: Distance = 4 km, Avg Blockage = 30.0%, Adjusted Speed = 42.00 km/h, Travel Time = 5.71 minutes\n",
            "Fire trucks reduced fire in R1 by 10%: 25\n",
            "Fire trucks reduced fire in R1 by 10%: 15\n",
            "Fire trucks reduced fire in R1 by 10%: 5\n",
            "Fire trucks reduced fire in R1 by 10%: 0\n",
            "\n",
            "Region R1 - Rescue Operations:\n",
            "  Fire units deployed: 4\n",
            "  Police units deployed: 0\n",
            "  Remaining Fire Units: 0, Remaining Police Units: 0\n",
            "  Updated Fires: 0%, Roads Blocked: 60%\n",
            "Damage levels updated: {'R1': 'H', 'R2': 'M', 'R3': 'L', 'R4': 'L', 'R5': 'L'}\n",
            "Travel to R1 took 5.71 minutes. Total elapsed time: 45.91 minutes.\n",
            "Travel from R1 to R5: Distance = 6 km, Avg Blockage = 32.5%, Adjusted Speed = 40.50 km/h, Travel Time = 8.89 minutes\n",
            "\n",
            "Region R5 - Rescue Operations:\n",
            "  Fire units deployed: 0\n",
            "  Police units deployed: 0\n",
            "  Remaining Fire Units: 0, Remaining Police Units: 0\n",
            "  Updated Fires: 3%, Roads Blocked: 5%\n",
            "Damage levels updated: {'R1': 'H', 'R2': 'M', 'R3': 'L', 'R4': 'L', 'R5': 'L'}\n",
            "Travel to R5 took 8.89 minutes. Total elapsed time: 64.80 minutes.\n",
            "Travel from R5 to R2: Distance = 8 km, Avg Blockage = 22.5%, Adjusted Speed = 46.50 km/h, Travel Time = 10.32 minutes\n",
            "\n",
            "Region R2 - Rescue Operations:\n",
            "  Fire units deployed: 0\n",
            "  Police units deployed: 0\n",
            "  Remaining Fire Units: 0, Remaining Police Units: 0\n",
            "  Updated Fires: 25%, Roads Blocked: 40%\n",
            "Damage levels updated: {'R1': 'H', 'R2': 'M', 'R3': 'L', 'R4': 'L', 'R5': 'L'}\n",
            "Travel to R2 took 10.32 minutes. Total elapsed time: 85.12 minutes.\n"
          ]
        }
      ]
    },
    {
      "cell_type": "markdown",
      "source": [
        "## 5. Display Final State\n",
        "Once the simulation ends, the final state of each region (fires, road blockages, and damage level) is printed to summarize the disaster response results."
      ],
      "metadata": {
        "id": "GaPgvuQBOmh0"
      },
      "id": "GaPgvuQBOmh0"
    },
    {
      "cell_type": "code",
      "source": [
        "# Final state output\n",
        "print(\"\\n--- Final State of All Regions ---\")\n",
        "for region, damage in regions.items():\n",
        "    print(f\"{region} - Fires: {damage['fires']}%, Roads Blocked: {damage['roads_blocked']}%, Damage Level: {damage['damage_level']}\")\n",
        "\n",
        "print(\"\\n--- Simulation Complete ---\")\n"
      ],
      "metadata": {
        "colab": {
          "base_uri": "https://localhost:8080/"
        },
        "id": "JgJhxSA9Okgu",
        "outputId": "40d59094-6471-4e3a-9a08-a8714d1097b5"
      },
      "id": "JgJhxSA9Okgu",
      "execution_count": null,
      "outputs": [
        {
          "output_type": "stream",
          "name": "stdout",
          "text": [
            "\n",
            "--- Final State of All Regions ---\n",
            "R1 - Fires: 0%, Roads Blocked: 60%, Damage Level: H\n",
            "R2 - Fires: 25%, Roads Blocked: 40%, Damage Level: M\n",
            "R3 - Fires: 0%, Roads Blocked: 0%, Damage Level: L\n",
            "R4 - Fires: 0%, Roads Blocked: 0%, Damage Level: L\n",
            "R5 - Fires: 3%, Roads Blocked: 5%, Damage Level: L\n",
            "\n",
            "--- Simulation Complete ---\n"
          ]
        }
      ]
    },
    {
      "cell_type": "markdown",
      "id": "7b121817",
      "metadata": {
        "id": "7b121817"
      },
      "source": [
        "# Conclusion and Discussion"
      ]
    },
    {
      "cell_type": "markdown",
      "id": "09b42ef6",
      "metadata": {
        "id": "09b42ef6"
      },
      "source": [
        "## Conclusion\n",
        "The simulation of the disaster response operation provided valuable insights into resource allocation and decision-making during emergency situations. Over the course of the simulation, I learned the importance of adaptive strategies in response to dynamic conditions, as well as the interplay between fire spread, road blockages, and the efficacy of rescue operations.\n",
        "\n",
        "### Learnings:\n",
        "\n",
        "Resource Deployment: Effective management of fire trucks and police units is crucial. The simulation highlighted that while deploying resources, the order of operations significantly influences the outcome. High-priority regions must be addressed first to minimize overall damage and casualties.\n",
        "Path Optimization: The integration of Genetic Algorithms and Ant Colony Optimization was instrumental in finding efficient paths for rescue operations. This reinforced the value of optimization techniques in real-time decision-making scenarios.\n",
        "Impact of Disaster Dynamics: Understanding how quickly fires spread and road blockages develop allowed for more strategic planning of rescue missions. The iterative nature of the simulation demonstrated how quickly conditions could change, requiring ongoing assessment and adjustment of strategies.\n",
        "\n",
        "### Improvements:\n",
        "\n",
        "Real-time Feedback Mechanism: Implementing a real-time feedback mechanism to adjust resource allocation dynamically based on current conditions could enhance the simulation’s responsiveness. This would allow for immediate reallocation of resources as the situation evolves, rather than following a predetermined path.\n",
        "Broader Unit Deployment: There were instances where not all available units were deployed. Incorporating a more strategic allocation algorithm that considers the number of remaining units and their optimal distribution across regions could prevent under-utilization of resources.\n",
        "Comprehensive Reporting: While the simulation provided insights into the number of deployed units, a more comprehensive report detailing the impact of each unit’s deployment on fire reduction and road blockage clearance would enhance understanding of the effectiveness of the rescue operations.\n",
        "\n",
        "### What Went Wrong:\n",
        "\n",
        "The simulation did not effectively clear all fires and road blockages by the end of the run, indicating a possible misalignment in the deployment strategy or a lack of sufficient units allocated to high-impact regions. Certain regions continued to have significant damage levels, which suggests that rescue operations need to be better prioritized based on the severity of damage and the potential for resource allocation.\n",
        "Some regions did not receive the expected number of fire and police units, which may indicate an issue in the logic for tracking and deploying units. This needs to be addressed to ensure that the simulation can accurately reflect the deployment of all available resources.\n",
        "In summary, the simulation has proven to be a valuable learning tool, demonstrating the complexities of disaster response and the critical need for adaptable, data-driven strategies in emergency management. Future iterations should aim to refine the allocation algorithms and improve the responsiveness of the system to ensure that all regions can be effectively cleared of hazards within the simulation timeframe."
      ]
    }
  ],
  "metadata": {
    "kernelspec": {
      "display_name": "Python 3 (ipykernel)",
      "language": "python",
      "name": "python3"
    },
    "language_info": {
      "codemirror_mode": {
        "name": "ipython",
        "version": 3
      },
      "file_extension": ".py",
      "mimetype": "text/x-python",
      "name": "python",
      "nbconvert_exporter": "python",
      "pygments_lexer": "ipython3",
      "version": "3.11.4"
    },
    "colab": {
      "provenance": []
    }
  },
  "nbformat": 4,
  "nbformat_minor": 5
}